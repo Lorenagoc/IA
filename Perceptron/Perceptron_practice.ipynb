{
 "cells": [
  {
   "cell_type": "markdown",
   "id": "167f45a9",
   "metadata": {},
   "source": [
    "# Tarefa 5 - Redes Neurais\n",
    "### Dupla:\n",
    "- Lorena Gomes de Oliveira Cabral (20183002361)\n",
    "- Lucas Loscheider Reis Muniz (201722040475 )"
   ]
  },
  {
   "cell_type": "markdown",
   "id": "42a99e5c",
   "metadata": {},
   "source": [
    "# 1. Definições para a prática"
   ]
  },
  {
   "cell_type": "markdown",
   "id": "4c95071e",
   "metadata": {},
   "source": [
    "## Importação das bibliotecas python"
   ]
  },
  {
   "cell_type": "code",
   "execution_count": 42,
   "id": "8e89ff79",
   "metadata": {},
   "outputs": [],
   "source": [
    "import math\n",
    "import pandas as pd\n",
    "import numpy as np\n",
    "import matplotlib.pyplot as plt\n",
    "from scipy.special import expit\n",
    "from sklearn.model_selection import train_test_split"
   ]
  },
  {
   "cell_type": "markdown",
   "id": "65f4ece7",
   "metadata": {},
   "source": [
    "## Funções de ativação"
   ]
  },
  {
   "cell_type": "markdown",
   "id": "23329290",
   "metadata": {},
   "source": [
    "#### 1. Degrau"
   ]
  },
  {
   "cell_type": "code",
   "execution_count": 43,
   "id": "a82cc013",
   "metadata": {},
   "outputs": [],
   "source": [
    "def degrau(X):\n",
    "    y = []\n",
    "    for x in X:\n",
    "        if x >= 0:\n",
    "            y.append(1)\n",
    "        else:\n",
    "            y.append(0)\n",
    "    return y"
   ]
  },
  {
   "cell_type": "markdown",
   "id": "587091ab",
   "metadata": {},
   "source": [
    "#### 2. Sigmoidal"
   ]
  },
  {
   "cell_type": "code",
   "execution_count": 44,
   "id": "b41e3923",
   "metadata": {},
   "outputs": [],
   "source": [
    "def sigmoidal(X):\n",
    "    y = []\n",
    "    for x in X:\n",
    "        if x >= 0:\n",
    "            y.append(1 / (1 + (math.exp(-x))))\n",
    "        else:\n",
    "            y.append((math.exp(x)) / (1 + (math.exp(x))))\n",
    "    return y"
   ]
  },
  {
   "cell_type": "markdown",
   "id": "f609739e",
   "metadata": {},
   "source": [
    "## Algoritmo perceptron"
   ]
  },
  {
   "cell_type": "code",
   "execution_count": 45,
   "id": "ed86babe",
   "metadata": {},
   "outputs": [],
   "source": [
    "def perceptron (max_it, alfa, X, D, f):\n",
    "    W = np.array([[0,0,0,0,0,0],\n",
    "                  [0,0,0,0,0,0],\n",
    "                  [0,0,0,0,0,0]])\n",
    "    b = np.array([0,0,0])\n",
    "    t = 1 \n",
    "    E = 1\n",
    "    while (t < max_it and E>0):\n",
    "        E = 0\n",
    "        for i,x in X.iterrows():\n",
    "            y = f(np.matmul(W, np.array(x.array)) + b)\n",
    "            e = np.array(D[i]) - np.array(y)\n",
    "            W = W + alfa*(np.outer(e,x.array))\n",
    "            b = b + alfa*e\n",
    "            E = E + e.dot(e)\n",
    "        t = t + 1\n",
    "    return (W,b)"
   ]
  },
  {
   "cell_type": "markdown",
   "id": "d61b0419",
   "metadata": {},
   "source": [
    "## Teste do algoritmo perceptron"
   ]
  },
  {
   "cell_type": "code",
   "execution_count": 46,
   "id": "ea02987c",
   "metadata": {},
   "outputs": [],
   "source": [
    "def perceptron_teste(X, D, W, b, f):\n",
    "    acertos = 0\n",
    "    for i,n in X.iterrows():\n",
    "        y = f(W.dot(np.array(n.array)) + b)\n",
    "        e = np.array(D[i]) - np.array(y)\n",
    "        \n",
    "        if all (erro == 0 for erro in e):\n",
    "            acertos = acertos + 1\n",
    "    taxa_acertos = (acertos/len(X)) * 100\n",
    "    return (acertos, taxa_acertos)"
   ]
  },
  {
   "cell_type": "markdown",
   "id": "8cb8e5c9",
   "metadata": {},
   "source": [
    "## Leitura dos dados"
   ]
  },
  {
   "cell_type": "code",
   "execution_count": 47,
   "id": "a66b61aa",
   "metadata": {},
   "outputs": [
    {
     "data": {
      "text/html": [
       "<div>\n",
       "<style scoped>\n",
       "    .dataframe tbody tr th:only-of-type {\n",
       "        vertical-align: middle;\n",
       "    }\n",
       "\n",
       "    .dataframe tbody tr th {\n",
       "        vertical-align: top;\n",
       "    }\n",
       "\n",
       "    .dataframe thead th {\n",
       "        text-align: right;\n",
       "    }\n",
       "</style>\n",
       "<table border=\"1\" class=\"dataframe\">\n",
       "  <thead>\n",
       "    <tr style=\"text-align: right;\">\n",
       "      <th></th>\n",
       "      <th>Incidência pélvica</th>\n",
       "      <th>Inclinação pélvica</th>\n",
       "      <th>Ângulo da lordose lombar</th>\n",
       "      <th>Inclinação sacal</th>\n",
       "      <th>Raio pélvico</th>\n",
       "      <th>Grau de espondilolistese</th>\n",
       "      <th>Categorias</th>\n",
       "      <th>D</th>\n",
       "    </tr>\n",
       "  </thead>\n",
       "  <tbody>\n",
       "    <tr>\n",
       "      <th>0</th>\n",
       "      <td>63.03</td>\n",
       "      <td>22.55</td>\n",
       "      <td>39.61</td>\n",
       "      <td>40.48</td>\n",
       "      <td>98.67</td>\n",
       "      <td>-0.25</td>\n",
       "      <td>DH</td>\n",
       "      <td>[0, 0, 1]</td>\n",
       "    </tr>\n",
       "    <tr>\n",
       "      <th>1</th>\n",
       "      <td>39.06</td>\n",
       "      <td>10.06</td>\n",
       "      <td>25.02</td>\n",
       "      <td>29.00</td>\n",
       "      <td>114.41</td>\n",
       "      <td>4.56</td>\n",
       "      <td>DH</td>\n",
       "      <td>[0, 0, 1]</td>\n",
       "    </tr>\n",
       "    <tr>\n",
       "      <th>2</th>\n",
       "      <td>68.83</td>\n",
       "      <td>22.22</td>\n",
       "      <td>50.09</td>\n",
       "      <td>46.61</td>\n",
       "      <td>105.99</td>\n",
       "      <td>-3.53</td>\n",
       "      <td>DH</td>\n",
       "      <td>[0, 0, 1]</td>\n",
       "    </tr>\n",
       "    <tr>\n",
       "      <th>3</th>\n",
       "      <td>69.30</td>\n",
       "      <td>24.65</td>\n",
       "      <td>44.31</td>\n",
       "      <td>44.64</td>\n",
       "      <td>101.87</td>\n",
       "      <td>11.21</td>\n",
       "      <td>DH</td>\n",
       "      <td>[0, 0, 1]</td>\n",
       "    </tr>\n",
       "    <tr>\n",
       "      <th>4</th>\n",
       "      <td>49.71</td>\n",
       "      <td>9.65</td>\n",
       "      <td>28.32</td>\n",
       "      <td>40.06</td>\n",
       "      <td>108.17</td>\n",
       "      <td>7.92</td>\n",
       "      <td>DH</td>\n",
       "      <td>[0, 0, 1]</td>\n",
       "    </tr>\n",
       "    <tr>\n",
       "      <th>...</th>\n",
       "      <td>...</td>\n",
       "      <td>...</td>\n",
       "      <td>...</td>\n",
       "      <td>...</td>\n",
       "      <td>...</td>\n",
       "      <td>...</td>\n",
       "      <td>...</td>\n",
       "      <td>...</td>\n",
       "    </tr>\n",
       "    <tr>\n",
       "      <th>305</th>\n",
       "      <td>47.90</td>\n",
       "      <td>13.62</td>\n",
       "      <td>36.00</td>\n",
       "      <td>34.29</td>\n",
       "      <td>117.45</td>\n",
       "      <td>-4.25</td>\n",
       "      <td>NO</td>\n",
       "      <td>[1, 0, 0]</td>\n",
       "    </tr>\n",
       "    <tr>\n",
       "      <th>306</th>\n",
       "      <td>53.94</td>\n",
       "      <td>20.72</td>\n",
       "      <td>29.22</td>\n",
       "      <td>33.22</td>\n",
       "      <td>114.37</td>\n",
       "      <td>-0.42</td>\n",
       "      <td>NO</td>\n",
       "      <td>[1, 0, 0]</td>\n",
       "    </tr>\n",
       "    <tr>\n",
       "      <th>307</th>\n",
       "      <td>61.45</td>\n",
       "      <td>22.69</td>\n",
       "      <td>46.17</td>\n",
       "      <td>38.75</td>\n",
       "      <td>125.67</td>\n",
       "      <td>-2.71</td>\n",
       "      <td>NO</td>\n",
       "      <td>[1, 0, 0]</td>\n",
       "    </tr>\n",
       "    <tr>\n",
       "      <th>308</th>\n",
       "      <td>45.25</td>\n",
       "      <td>8.69</td>\n",
       "      <td>41.58</td>\n",
       "      <td>36.56</td>\n",
       "      <td>118.55</td>\n",
       "      <td>0.21</td>\n",
       "      <td>NO</td>\n",
       "      <td>[1, 0, 0]</td>\n",
       "    </tr>\n",
       "    <tr>\n",
       "      <th>309</th>\n",
       "      <td>33.84</td>\n",
       "      <td>5.07</td>\n",
       "      <td>36.64</td>\n",
       "      <td>28.77</td>\n",
       "      <td>123.95</td>\n",
       "      <td>-0.20</td>\n",
       "      <td>NO</td>\n",
       "      <td>[1, 0, 0]</td>\n",
       "    </tr>\n",
       "  </tbody>\n",
       "</table>\n",
       "<p>310 rows × 8 columns</p>\n",
       "</div>"
      ],
      "text/plain": [
       "     Incidência pélvica  Inclinação pélvica  Ângulo da lordose lombar  \\\n",
       "0                 63.03               22.55                     39.61   \n",
       "1                 39.06               10.06                     25.02   \n",
       "2                 68.83               22.22                     50.09   \n",
       "3                 69.30               24.65                     44.31   \n",
       "4                 49.71                9.65                     28.32   \n",
       "..                  ...                 ...                       ...   \n",
       "305               47.90               13.62                     36.00   \n",
       "306               53.94               20.72                     29.22   \n",
       "307               61.45               22.69                     46.17   \n",
       "308               45.25                8.69                     41.58   \n",
       "309               33.84                5.07                     36.64   \n",
       "\n",
       "     Inclinação sacal  Raio pélvico  Grau de espondilolistese Categorias  \\\n",
       "0               40.48         98.67                     -0.25         DH   \n",
       "1               29.00        114.41                      4.56         DH   \n",
       "2               46.61        105.99                     -3.53         DH   \n",
       "3               44.64        101.87                     11.21         DH   \n",
       "4               40.06        108.17                      7.92         DH   \n",
       "..                ...           ...                       ...        ...   \n",
       "305             34.29        117.45                     -4.25         NO   \n",
       "306             33.22        114.37                     -0.42         NO   \n",
       "307             38.75        125.67                     -2.71         NO   \n",
       "308             36.56        118.55                      0.21         NO   \n",
       "309             28.77        123.95                     -0.20         NO   \n",
       "\n",
       "             D  \n",
       "0    [0, 0, 1]  \n",
       "1    [0, 0, 1]  \n",
       "2    [0, 0, 1]  \n",
       "3    [0, 0, 1]  \n",
       "4    [0, 0, 1]  \n",
       "..         ...  \n",
       "305  [1, 0, 0]  \n",
       "306  [1, 0, 0]  \n",
       "307  [1, 0, 0]  \n",
       "308  [1, 0, 0]  \n",
       "309  [1, 0, 0]  \n",
       "\n",
       "[310 rows x 8 columns]"
      ]
     },
     "execution_count": 47,
     "metadata": {},
     "output_type": "execute_result"
    }
   ],
   "source": [
    "dados = pd.read_table(\"dados.dat\", sep=\" \",header=None)\n",
    "dados.columns = ['Incidência pélvica', 'Inclinação pélvica', 'Ângulo da lordose lombar', 'Inclinação sacal', 'Raio pélvico', 'Grau de espondilolistese', 'Categorias']\n",
    "\n",
    "dict_class = {\n",
    "    'DH': [0,0,1],\n",
    "    'SL': [0,1,0],\n",
    "    'NO': [1,0,0]\n",
    "}\n",
    "\n",
    "dados[\"D\"] = dados[\"Categorias\"].apply(lambda x: dict_class[x])\n",
    "dados"
   ]
  },
  {
   "cell_type": "markdown",
   "id": "eb5828a7",
   "metadata": {},
   "source": [
    "## Dados de teste e de treino"
   ]
  },
  {
   "cell_type": "code",
   "execution_count": 48,
   "id": "72f30846",
   "metadata": {},
   "outputs": [
    {
     "data": {
      "text/html": [
       "<div>\n",
       "<style scoped>\n",
       "    .dataframe tbody tr th:only-of-type {\n",
       "        vertical-align: middle;\n",
       "    }\n",
       "\n",
       "    .dataframe tbody tr th {\n",
       "        vertical-align: top;\n",
       "    }\n",
       "\n",
       "    .dataframe thead th {\n",
       "        text-align: right;\n",
       "    }\n",
       "</style>\n",
       "<table border=\"1\" class=\"dataframe\">\n",
       "  <thead>\n",
       "    <tr style=\"text-align: right;\">\n",
       "      <th></th>\n",
       "      <th>Incidência pélvica</th>\n",
       "      <th>Inclinação pélvica</th>\n",
       "      <th>Ângulo da lordose lombar</th>\n",
       "      <th>Inclinação sacal</th>\n",
       "      <th>Raio pélvico</th>\n",
       "      <th>Grau de espondilolistese</th>\n",
       "      <th>Categorias</th>\n",
       "      <th>D</th>\n",
       "    </tr>\n",
       "  </thead>\n",
       "  <tbody>\n",
       "    <tr>\n",
       "      <th>256</th>\n",
       "      <td>54.75</td>\n",
       "      <td>9.75</td>\n",
       "      <td>48.00</td>\n",
       "      <td>45.00</td>\n",
       "      <td>123.04</td>\n",
       "      <td>8.24</td>\n",
       "      <td>NO</td>\n",
       "      <td>[1, 0, 0]</td>\n",
       "    </tr>\n",
       "    <tr>\n",
       "      <th>232</th>\n",
       "      <td>43.12</td>\n",
       "      <td>13.82</td>\n",
       "      <td>40.35</td>\n",
       "      <td>29.30</td>\n",
       "      <td>128.52</td>\n",
       "      <td>0.97</td>\n",
       "      <td>NO</td>\n",
       "      <td>[1, 0, 0]</td>\n",
       "    </tr>\n",
       "    <tr>\n",
       "      <th>25</th>\n",
       "      <td>54.12</td>\n",
       "      <td>26.65</td>\n",
       "      <td>35.33</td>\n",
       "      <td>27.47</td>\n",
       "      <td>121.45</td>\n",
       "      <td>1.57</td>\n",
       "      <td>DH</td>\n",
       "      <td>[0, 0, 1]</td>\n",
       "    </tr>\n",
       "    <tr>\n",
       "      <th>71</th>\n",
       "      <td>86.90</td>\n",
       "      <td>32.93</td>\n",
       "      <td>47.79</td>\n",
       "      <td>53.97</td>\n",
       "      <td>135.08</td>\n",
       "      <td>101.72</td>\n",
       "      <td>SL</td>\n",
       "      <td>[0, 1, 0]</td>\n",
       "    </tr>\n",
       "    <tr>\n",
       "      <th>61</th>\n",
       "      <td>89.68</td>\n",
       "      <td>32.70</td>\n",
       "      <td>83.13</td>\n",
       "      <td>56.98</td>\n",
       "      <td>129.96</td>\n",
       "      <td>92.03</td>\n",
       "      <td>SL</td>\n",
       "      <td>[0, 1, 0]</td>\n",
       "    </tr>\n",
       "    <tr>\n",
       "      <th>...</th>\n",
       "      <td>...</td>\n",
       "      <td>...</td>\n",
       "      <td>...</td>\n",
       "      <td>...</td>\n",
       "      <td>...</td>\n",
       "      <td>...</td>\n",
       "      <td>...</td>\n",
       "      <td>...</td>\n",
       "    </tr>\n",
       "    <tr>\n",
       "      <th>208</th>\n",
       "      <td>87.68</td>\n",
       "      <td>20.37</td>\n",
       "      <td>93.82</td>\n",
       "      <td>67.31</td>\n",
       "      <td>120.94</td>\n",
       "      <td>76.73</td>\n",
       "      <td>SL</td>\n",
       "      <td>[0, 1, 0]</td>\n",
       "    </tr>\n",
       "    <tr>\n",
       "      <th>279</th>\n",
       "      <td>48.80</td>\n",
       "      <td>18.02</td>\n",
       "      <td>52.00</td>\n",
       "      <td>30.78</td>\n",
       "      <td>139.15</td>\n",
       "      <td>10.44</td>\n",
       "      <td>NO</td>\n",
       "      <td>[1, 0, 0]</td>\n",
       "    </tr>\n",
       "    <tr>\n",
       "      <th>300</th>\n",
       "      <td>50.68</td>\n",
       "      <td>6.46</td>\n",
       "      <td>35.00</td>\n",
       "      <td>44.22</td>\n",
       "      <td>116.59</td>\n",
       "      <td>-0.21</td>\n",
       "      <td>NO</td>\n",
       "      <td>[1, 0, 0]</td>\n",
       "    </tr>\n",
       "    <tr>\n",
       "      <th>221</th>\n",
       "      <td>54.95</td>\n",
       "      <td>5.87</td>\n",
       "      <td>53.00</td>\n",
       "      <td>49.09</td>\n",
       "      <td>126.97</td>\n",
       "      <td>-0.63</td>\n",
       "      <td>NO</td>\n",
       "      <td>[1, 0, 0]</td>\n",
       "    </tr>\n",
       "    <tr>\n",
       "      <th>219</th>\n",
       "      <td>64.31</td>\n",
       "      <td>26.33</td>\n",
       "      <td>50.96</td>\n",
       "      <td>37.98</td>\n",
       "      <td>106.18</td>\n",
       "      <td>3.12</td>\n",
       "      <td>NO</td>\n",
       "      <td>[1, 0, 0]</td>\n",
       "    </tr>\n",
       "  </tbody>\n",
       "</table>\n",
       "<p>217 rows × 8 columns</p>\n",
       "</div>"
      ],
      "text/plain": [
       "     Incidência pélvica  Inclinação pélvica  Ângulo da lordose lombar  \\\n",
       "256               54.75                9.75                     48.00   \n",
       "232               43.12               13.82                     40.35   \n",
       "25                54.12               26.65                     35.33   \n",
       "71                86.90               32.93                     47.79   \n",
       "61                89.68               32.70                     83.13   \n",
       "..                  ...                 ...                       ...   \n",
       "208               87.68               20.37                     93.82   \n",
       "279               48.80               18.02                     52.00   \n",
       "300               50.68                6.46                     35.00   \n",
       "221               54.95                5.87                     53.00   \n",
       "219               64.31               26.33                     50.96   \n",
       "\n",
       "     Inclinação sacal  Raio pélvico  Grau de espondilolistese Categorias  \\\n",
       "256             45.00        123.04                      8.24         NO   \n",
       "232             29.30        128.52                      0.97         NO   \n",
       "25              27.47        121.45                      1.57         DH   \n",
       "71              53.97        135.08                    101.72         SL   \n",
       "61              56.98        129.96                     92.03         SL   \n",
       "..                ...           ...                       ...        ...   \n",
       "208             67.31        120.94                     76.73         SL   \n",
       "279             30.78        139.15                     10.44         NO   \n",
       "300             44.22        116.59                     -0.21         NO   \n",
       "221             49.09        126.97                     -0.63         NO   \n",
       "219             37.98        106.18                      3.12         NO   \n",
       "\n",
       "             D  \n",
       "256  [1, 0, 0]  \n",
       "232  [1, 0, 0]  \n",
       "25   [0, 0, 1]  \n",
       "71   [0, 1, 0]  \n",
       "61   [0, 1, 0]  \n",
       "..         ...  \n",
       "208  [0, 1, 0]  \n",
       "279  [1, 0, 0]  \n",
       "300  [1, 0, 0]  \n",
       "221  [1, 0, 0]  \n",
       "219  [1, 0, 0]  \n",
       "\n",
       "[217 rows x 8 columns]"
      ]
     },
     "execution_count": 48,
     "metadata": {},
     "output_type": "execute_result"
    }
   ],
   "source": [
    "dados_treino, dados_teste = train_test_split(dados, test_size=0.3, random_state=40, stratify = dados[\"Categorias\"])\n",
    "dados_treino"
   ]
  },
  {
   "cell_type": "markdown",
   "id": "365800bc",
   "metadata": {},
   "source": [
    "# 2. Realização dos testes"
   ]
  },
  {
   "cell_type": "markdown",
   "id": "f687ee30",
   "metadata": {},
   "source": [
    "## a) Usar, primeiramente, uma função de ativação degrau para os neurônios"
   ]
  },
  {
   "cell_type": "code",
   "execution_count": 49,
   "id": "5aa82a77",
   "metadata": {},
   "outputs": [
    {
     "name": "stdout",
     "output_type": "stream",
     "text": [
      "W_degrau =  [[  -4.047  -50.065   14.32    47.597    8.776 -106.632]\n",
      " [ -27.346   12.076   86.201  -40.037  -49.493  191.055]\n",
      " [  19.208   68.075  -52.106  -48.28    -0.258  -55.457]]\n",
      "\n",
      "bias_degrau = [-41.3  -0.4  40.1]\n"
     ]
    }
   ],
   "source": [
    "X = dados_treino.drop([\"Categorias\",\"D\"], axis=1)\n",
    "D = dados_treino[\"D\"]\n",
    "alfa = 0.1 # taxa de aprendizado\n",
    "max_it = 400 # número máximo de épocas\n",
    "\n",
    "(W,b) = perceptron (max_it, alfa, X, D, degrau)\n",
    "print(\"W_degrau = \", W)\n",
    "print()\n",
    "print(\"bias_degrau =\", b)"
   ]
  },
  {
   "cell_type": "markdown",
   "id": "de845823",
   "metadata": {},
   "source": [
    "## b) Depois, usar uma função sigmoidal."
   ]
  },
  {
   "cell_type": "code",
   "execution_count": 50,
   "id": "9638cb0f",
   "metadata": {},
   "outputs": [
    {
     "name": "stdout",
     "output_type": "stream",
     "text": [
      "W_sigmoidal =  [[ 7.35457209e-02 -6.05946613e+01  1.66008979e+01  6.22452829e+01\n",
      "   1.72415751e+00 -1.08840323e+02]\n",
      " [-2.78886827e+01  1.06459587e+01  8.46701839e+01 -3.91311521e+01\n",
      "  -4.84111425e+01  1.90761933e+02]\n",
      " [ 1.47675820e+01  6.66552716e+01 -5.31511962e+01 -5.15819721e+01\n",
      "  -4.85797102e+00 -4.53102026e+01]]\n",
      "\n",
      "bias_sigmoidal =  [-41.52366484  -0.52633513  39.84043597]\n"
     ]
    }
   ],
   "source": [
    "X = dados_treino.drop([\"Categorias\",\"D\"], axis=1)\n",
    "D = dados_treino[\"D\"]\n",
    "alfa = 0.1\n",
    "max_it = 400\n",
    "\n",
    "(W,b) = perceptron(max_it, alfa, X, D, sigmoidal)\n",
    "print(\"W_sigmoidal = \", np.matrix(W))\n",
    "print()\n",
    "print(\"bias_sigmoidal = \", b)"
   ]
  },
  {
   "cell_type": "markdown",
   "id": "da98e71a",
   "metadata": {},
   "source": [
    "## c) Comparar a acurácia dos dois resultados"
   ]
  },
  {
   "cell_type": "markdown",
   "id": "85af48c7",
   "metadata": {},
   "source": [
    "### 1. Acurácia degrau unitário"
   ]
  },
  {
   "cell_type": "code",
   "execution_count": 51,
   "id": "321d1c13",
   "metadata": {},
   "outputs": [
    {
     "name": "stdout",
     "output_type": "stream",
     "text": [
      "Para a função degrau, foram obtidos  64  em  93\n",
      "Portanto, a taxa de acertos foi de:  68.81720430107528 %\n"
     ]
    }
   ],
   "source": [
    "X = dados_teste.drop([\"Categorias\",\"D\"], axis=1)\n",
    "D = dados_teste[\"D\"]\n",
    "acerto, taxa_acerto = perceptron_teste (X, D, W, b, degrau)\n",
    "print(\"Para a função degrau, foram obtidos \", acerto, \" em \", len(dados_teste))\n",
    "print(\"Portanto, a taxa de acertos foi de: \", taxa_acerto,\"%\")"
   ]
  },
  {
   "cell_type": "markdown",
   "id": "9a1b36c4",
   "metadata": {},
   "source": [
    "### 2. Acurácia sigmoidal"
   ]
  },
  {
   "cell_type": "code",
   "execution_count": 52,
   "id": "46cc153e",
   "metadata": {
    "scrolled": true
   },
   "outputs": [
    {
     "name": "stdout",
     "output_type": "stream",
     "text": [
      "Para função sigmoidal, foram obtidos  56  em  93\n",
      "Portanto, a taxa de acertos foi de:  60.215053763440864 %\n"
     ]
    }
   ],
   "source": [
    "X = dados_teste.drop([\"Categorias\",\"D\"], axis=1)\n",
    "D = dados_teste[\"D\"]\n",
    "acerto, taxa_acerto = perceptron_teste (X, D, W, b, sigmoidal)\n",
    "print(\"Para função sigmoidal, foram obtidos \", acerto, \" em \", len(dados_teste))\n",
    "print(\"Portanto, a taxa de acertos foi de: \", taxa_acerto,\"%\")"
   ]
  },
  {
   "cell_type": "markdown",
   "id": "c567aa5b",
   "metadata": {},
   "source": [
    "***R:*** Utilizando a mesma base da dados de treino e teste, taxa de aprendizado fixa de 10% e um número máximo de 400 épocas, obteve-se para a função degrau uma taxa de acertos de aproximadamente 69%. Enquanto isso, para a função sigmoidal, o resultado foi de aproximadamente 60% de acertos."
   ]
  },
  {
   "cell_type": "markdown",
   "id": "7825db67",
   "metadata": {},
   "source": [
    "### Gráfico de Erro vs. Épocas"
   ]
  },
  {
   "cell_type": "code",
   "execution_count": 76,
   "id": "c404bae2",
   "metadata": {},
   "outputs": [],
   "source": [
    "def gera_grafico_erro (max_it, alfa, X, D, f):\n",
    "    W = np.array([[0,0,0,0,0,0],\n",
    "                  [0,0,0,0,0,0],\n",
    "                  [0,0,0,0,0,0]])\n",
    "    b = np.array([0,0,0])\n",
    "    t = 1 \n",
    "    E = 1\n",
    "    arr_E = []\n",
    "    arr_t = []\n",
    "    while (t < max_it and E>0):\n",
    "        E = 0\n",
    "        for i,x in X.iterrows():\n",
    "            y = f(np.matmul(W, np.array(x.array)) + b)\n",
    "            e = np.array(D[i]) - np.array(y)\n",
    "            W = W + alfa*(np.outer(e,x.array))\n",
    "            b = b + alfa*e\n",
    "            E = E + e.dot(e)\n",
    "        arr_E.append(E)\n",
    "        arr_t.append(t)\n",
    "        t = t + 1\n",
    "        \n",
    "    plt.plot(np.array(arr_t), np.array(arr_E), \"go-\", linewidth=2)\n",
    "    plt.title(\"Época vs. Erro\")\n",
    "    plt.grid(True)\n",
    "    plt.xlabel(\"Erro\")\n",
    "    plt.ylabel(\"Época\")\n",
    "    plt.show()"
   ]
  },
  {
   "cell_type": "code",
   "execution_count": 77,
   "id": "9637dd7f",
   "metadata": {},
   "outputs": [
    {
     "name": "stdout",
     "output_type": "stream",
     "text": [
      "Função degrau\n"
     ]
    },
    {
     "data": {
      "image/png": "[encoded data removed]",
      "text/plain": [
       "<Figure size 432x288 with 1 Axes>"
      ]
     },
     "metadata": {
      "needs_background": "light"
     },
     "output_type": "display_data"
    },
    {
     "name": "stdout",
     "output_type": "stream",
     "text": [
      "\n",
      "Função sigmoidal\n"
     ]
    },
    {
     "data": {
      "image/png": "[encoded data removed]",
      "text/plain": [
       "<Figure size 432x288 with 1 Axes>"
      ]
     },
     "metadata": {
      "needs_background": "light"
     },
     "output_type": "display_data"
    }
   ],
   "source": [
    "alfa = 0.1\n",
    "max_it = 20\n",
    "X = dados_treino.drop([\"Categorias\",\"D\"], axis=1)\n",
    "D = dados_treino[\"D\"]\n",
    "\n",
    "print(\"Função degrau\")\n",
    "gera_grafico_erro(max_it, alfa, X, D, degrau)\n",
    "print()\n",
    "print(\"Função sigmoidal\")\n",
    "gera_grafico_erro(max_it, alfa, X, D, sigmoidal)"
   ]
  },
  {
   "cell_type": "markdown",
   "id": "be22f338",
   "metadata": {},
   "source": [
    "**R:** Diminuindo a quantidade de épocas de treino, é possível ver com mais detalhes o comportamento das funções de ativação no sistema. \n",
    "\n",
    "Mantendo a mesma taxa de aprendizado e mesma base de dados dos cálculos anteriores, pode-se dizer, pelos gráficos acima, que ambas as funções funcionam e geram diminuição gradual do erro. Porém, a função degrau, além de ter maior taxa de acertos obteve um gráfico com declíneo consideravelmente mais uniforme. \n",
    "\n",
    "Portanto, para o problema em questão, a *função degrau* foi mais apropriada."
   ]
  },
  {
   "cell_type": "markdown",
   "id": "41f83c52",
   "metadata": {},
   "source": [
    "# Referências"
   ]
  },
  {
   "cell_type": "markdown",
   "id": "38bb2408",
   "metadata": {},
   "source": [
    "1. JUNIOR, Waldir Bertazzi. Redes Neurais 3: Implementação de um Perceptron em Python. 15 maio 2019. Disponível em: https://waldirbertazzijr.com/index.php/2019/05/15/redes-neurais-3-implementacao-de-um-perceptron-em-python/. Acesso em: 28 maio 2022.\n",
    "\n",
    "\n",
    "2. A FUNÇÃO Sigmoid em Python. 9 maio 2021. Disponível em: https://www.delftstack.com/pt/howto/python/sigmoid-function-python/. Acesso em: 28 maio 2022."
   ]
  }
 ],
 "metadata": {
  "kernelspec": {
   "display_name": "Python 3 (ipykernel)",
   "language": "python",
   "name": "python3"
  },
  "language_info": {
   "codemirror_mode": {
    "name": "ipython",
    "version": 3
   },
   "file_extension": ".py",
   "mimetype": "text/x-python",
   "name": "python",
   "nbconvert_exporter": "python",
   "pygments_lexer": "ipython3",
   "version": "3.8.10"
  }
 },
 "nbformat": 4,
 "nbformat_minor": 5
}
